{
 "cells": [
  {
   "cell_type": "code",
   "execution_count": null,
   "metadata": {},
   "outputs": [],
   "source": []
  }
 ],
 "metadata": {
  "kernelspec": {
   "display_name": "Python 3.9.6 ('env': venv)",
   "language": "python",
   "name": "python3"
  },
  "language_info": {
   "name": "python",
   "version": "3.9.6"
  },
  "vscode": {
   "interpreter": {
    "hash": "59910fea14a50f5b59316ada61404e78cc4e2d8703a854f85bd1fbcfa935f71d"
   }
  }
 },
 "nbformat": 4,
 "nbformat_minor": 5
}
